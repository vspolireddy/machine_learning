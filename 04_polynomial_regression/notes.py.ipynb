{
 "cells": [
  {
   "cell_type": "code",
   "execution_count": null,
   "metadata": {
    "collapsed": true
   },
   "outputs": [],
   "source": [
    "# -- Simple Linear regression y = b0 + b1x1\n",
    "# -- multi linear regression y = b0 + b1x1 + b2x2 + ... + bnXn\n",
    "# \n",
    "# -- polynomial linear regression y = b0 + b1X1 + b2X1^2 + ... + bnX1^n\n",
    "#-- parabolic curve to better rather than simple linear regression straight line\n",
    "\n",
    "\n",
    "\n",
    "# still a linear, x values are non linear, the coefficients are till linear.\n",
    "# y is a function of x, the function whether it can be expressed as a linear\n",
    "# combination of these coefficents\n",
    "\n",
    "# goal when youre building a model, is to find out their actual values(coefficents)\n",
    "\n",
    "\n",
    "\n"
   ]
  }
 ],
 "metadata": {
  "kernelspec": {
   "display_name": "Python 2",
   "language": "python",
   "name": "python2"
  },
  "language_info": {
   "codemirror_mode": {
    "name": "ipython",
    "version": 2
   },
   "file_extension": ".py",
   "mimetype": "text/x-python",
   "name": "python",
   "nbconvert_exporter": "python",
   "pygments_lexer": "ipython2",
   "version": "2.7.6"
  }
 },
 "nbformat": 4,
 "nbformat_minor": 0
}
