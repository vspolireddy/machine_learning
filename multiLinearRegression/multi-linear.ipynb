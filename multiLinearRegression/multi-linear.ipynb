{
 "cells": [
  {
   "cell_type": "code",
   "execution_count": 1,
   "metadata": {
    "collapsed": true
   },
   "outputs": [],
   "source": [
    "# y = b0 + b1*xn - simple linear\n",
    "# y = b0 + bn * xn\n",
    "\n",
    "\n",
    "# y is dependent variable\n",
    "# b0 - bn*Xn are independent variables\n",
    "\n",
    "# R&D Spend,Administration,Marketing Spend,State,Profit\n",
    "# 1 65349.2,136897.8,471784.1,New York,192261.83 \n",
    "# bn * xn +  ................. +   b0     = y\n",
    "  \n",
    "# always include 1 less dummy variable"
   ]
  },
  {
   "cell_type": "code",
   "execution_count": 6,
   "metadata": {},
   "outputs": [],
   "source": [
    "#pvalue tells us how \n",
    "# likely it is to get a \n",
    "# result like this if the \n",
    "# null hypthesis is true.\n",
    "\n",
    "# smaller the pvalue more evidence reject\n",
    "# null hypthosis, probably wrong\n",
    "\n",
    "# higher p value indicates that\n",
    "# that orginal idea is probably \n",
    "# correct, we do not reject null hypothesis\n",
    "\n",
    "# signficance level .05\n",
    "# low p value -------------------- high p value\n",
    "# .004                                   #.63\n",
    "# strong evidence                  low evidence\n",
    "\n",
    "\n",
    "\n"
   ]
  },
  {
   "cell_type": "code",
   "execution_count": 6,
   "metadata": {},
   "outputs": [],
   "source": [
    "#The purpose of finding a p-value is basically to determine whether the observed results differ from the expected results to such a degree that the \n",
    "# \"null hypothesis\" - the hypothesis that there is no relationship between the experimental variable(s)\n",
    "#  and the observed results - is unlikely enough to reject \n"
   ]
  },
  {
   "cell_type": "code",
   "execution_count": 7,
   "metadata": {},
   "outputs": [],
   "source": [
    "#degrees of freedom = n-1\n",
    "# 2 - 1\n",
    "# = 1\n",
    "\n",
    "# where \"n\" is the number of categories or variables"
   ]
  },
  {
   "cell_type": "code",
   "execution_count": 8,
   "metadata": {},
   "outputs": [],
   "source": [
    "#The equation for chi square is: x2 = Σ((o-e)2/e), where \"o\" is the observed value and \"e\" is the expected value.[1] Sum the results of this equation for all possible outcomes (see below).\n",
    " #   https://www.wikihow.com/Calculate-P-Value"
   ]
  },
  {
   "cell_type": "code",
   "execution_count": 9,
   "metadata": {},
   "outputs": [],
   "source": [
    "# The equation for chi square is: x2 = Σ((o-e)2/e), where \"o\" is the observed value and \"e\" is the expected value.\n",
    "# Thus, we would calculate ((o-e)2/e) twice - once for red cars and once for blue cars.    \n",
    "    # x2 = ((90-100)2/100) + (60-50)2/50)\n",
    "    # x2 = ((-10)2/100) + (10)2/50)\n",
    "    # x2 = (100/100) + (100/50) = 1 + 2 = 3 .\n",
    "\n",
    "\n",
    "#Our chi-square was 3. So, \n",
    "# let's use the chi square \n",
    "# distribution table in the \n",
    "# photo above to find an approximate \n",
    "# p value. Since we know our \n",
    "# experiment has only 1 degree of freedom, we'll start in the \n",
    "# highest row. We'll go from left to right along this row \n",
    "# until we find a value higher than 3 - our chi square value.\n",
    "#  The first one we encounter is 3.84. Looking to the top of this column, \n",
    "# we see that the corresponding p value is 0.05. This means that our\n",
    "#  p value is between 0.05 and 0.1 (the next-biggest p value on the table).\n"
   ]
  },
  {
   "cell_type": "code",
   "execution_count": null,
   "metadata": {},
   "outputs": [],
   "source": [
    "#r than your significance value, you can't confidently make that claim.\n",
    "\n",
    "    #Example: Our p value is between 0.05 and 0.1 . \n",
    "# It is not smaller than 0.05, so, unfortunately, we can't reject our null hypothesis"
   ]
  }
 ],
 "metadata": {
  "kernelspec": {
   "display_name": "Python 2",
   "language": "python",
   "name": "python2"
  },
  "language_info": {
   "codemirror_mode": {
    "name": "ipython",
    "version": 2
   },
   "file_extension": ".py",
   "mimetype": "text/x-python",
   "name": "python",
   "nbconvert_exporter": "python",
   "pygments_lexer": "ipython2",
   "version": "2.7.6"
  }
 },
 "nbformat": 4,
 "nbformat_minor": 0
}
